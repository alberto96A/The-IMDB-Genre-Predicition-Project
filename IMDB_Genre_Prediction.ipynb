{
 "cells": [
  {
   "cell_type": "markdown",
   "id": "6ee31dfc",
   "metadata": {},
   "source": [
    "# Predicción de Géneros Cinematográficos Usando Datos de IMDb"
   ]
  },
  {
   "cell_type": "markdown",
   "id": "4af861c9",
   "metadata": {},
   "source": [
    "**Objetivo**: Este proyecto analiza y predice qué géneros cinematográficos serán rentables en el futuro usando datos de IMDb."
   ]
  },
  {
   "cell_type": "markdown",
   "id": "3f4d9543",
   "metadata": {},
   "source": [
    "## Cargar y Filtrar Datos"
   ]
  },
  {
   "cell_type": "code",
   "execution_count": 2,
   "id": "3b9aaba2",
   "metadata": {},
   "outputs": [
    {
     "name": "stderr",
     "output_type": "stream",
     "text": [
      "C:\\Users\\alber\\anaconda3\\lib\\site-packages\\pandas\\core\\arrays\\masked.py:60: UserWarning: Pandas requires version '1.3.6' or newer of 'bottleneck' (version '1.3.5' currently installed).\n",
      "  from pandas.core import (\n"
     ]
    }
   ],
   "source": [
    "\n",
    "import pandas as pd\n",
    "import numpy as np\n",
    "import matplotlib.pyplot as plt\n",
    "import seaborn as sns\n",
    "import missingno as msno\n",
    "import plotly.express as px\n",
    "\n",
    "from sklearn.model_selection import train_test_split\n",
    "from sklearn.linear_model import LogisticRegression\n",
    "from sklearn.metrics import classification_report, confusion_matrix\n",
    "from sklearn.preprocessing import MultiLabelBinarizer, OneHotEncoder\n",
    "\n",
    "# Opcional: Configuración de visualización\n",
    "sns.set_style('darkgrid')\n",
    "    "
   ]
  },
  {
   "cell_type": "markdown",
   "id": "de0a0cf1",
   "metadata": {},
   "source": [
    "### Paso 1: Cargar y Filtrar Datos"
   ]
  },
  {
   "cell_type": "code",
   "execution_count": 3,
   "id": "4dfcd51b",
   "metadata": {},
   "outputs": [],
   "source": [
    "\n",
    "# Cargar y filtrar datos iniciales\n",
    "df_basics = pd.read_csv('ImdbTitleBasics.csv', low_memory=False)\n",
    "df_movies = df_basics[df_basics['titleType'] == 'movie']\n",
    "\n",
    "# Filtrar datasets adicionales según tconst\n",
    "movie_ids = df_movies['tconst']\n",
    "df_akas = pd.read_csv('ImdbTitleAkas.csv', low_memory=False)\n",
    "df_akas_movies = df_akas[df_akas['titleId'].isin(movie_ids)]\n",
    "df_crew_movies = pd.read_csv('ImdbTitleCrew.csv').query(\"tconst in @movie_ids\")\n",
    "df_principals_movies = pd.read_csv('ImdbTitlePrincipals.csv').query(\"tconst in @movie_ids\")\n",
    "df_ratings_movies = pd.read_csv('ImdbTitleRatings.csv').query(\"tconst in @movie_ids\")\n",
    "\n",
    "# Guardar archivos\n",
    "df_movies.to_csv('ImdbTitleBasics_movies.csv', index=False)\n",
    "df_akas_movies.to_csv('ImdbTitleAkas_movies.csv', index=False)\n",
    "df_crew_movies.to_csv('ImdbTitleCrew_movies.csv', index=False)\n",
    "df_principals_movies.to_csv('ImdbTitlePrincipals_movies.csv', index=False)\n",
    "df_ratings_movies.to_csv('ImdbTitleRatings_movies.csv', index=False)\n",
    "    "
   ]
  },
  {
   "cell_type": "markdown",
   "id": "0fb1f8ed",
   "metadata": {},
   "source": [
    "### Paso 2: Limpieza y Selección de Datos"
   ]
  },
  {
   "cell_type": "code",
   "execution_count": null,
   "id": "04b7ee0f",
   "metadata": {},
   "outputs": [],
   "source": [
    "\n",
    "# Eliminar valores nulos y ajustar columnas para limpieza\n",
    "df_cleaned = df_movies.dropna(subset=['genres']).copy()\n",
    "df_cleaned.replace('\\N', pd.NA, inplace=True)\n",
    "df_cleaned['startYear'] = pd.to_numeric(df_cleaned['startYear'], errors='coerce')\n",
    "df_cleaned['runtimeMinutes'] = pd.to_numeric(df_cleaned['runtimeMinutes'], errors='coerce')\n",
    "\n",
    "# Guardar el DataFrame limpio\n",
    "df_cleaned.to_csv('df_cleaned.csv', index=False)\n",
    "    "
   ]
  },
  {
   "cell_type": "markdown",
   "id": "60abbc6f",
   "metadata": {},
   "source": [
    "### Paso 3: Combinar Datasets"
   ]
  },
  {
   "cell_type": "code",
   "execution_count": null,
   "id": "cda48092",
   "metadata": {},
   "outputs": [],
   "source": [
    "\n",
    "df_combined = pd.merge(df_movies, df_ratings_movies, on='tconst', how='left')\n",
    "df_combined = pd.merge(df_combined, df_akas_movies[['titleId', 'title']], left_on='tconst', right_on='titleId', how='left')\n",
    "display(df_combined.head())\n",
    "    "
   ]
  },
  {
   "cell_type": "markdown",
   "id": "fa7613a2",
   "metadata": {},
   "source": [
    "### Paso 4: EDA y Análisis de Géneros"
   ]
  },
  {
   "cell_type": "code",
   "execution_count": null,
   "id": "69ea832e",
   "metadata": {},
   "outputs": [],
   "source": [
    "\n",
    "plt.figure(figsize=(12, 8))\n",
    "sns.histplot(df_cleaned['averageRating'], kde=True)\n",
    "plt.title('Distribución de Calificaciones Promedio')\n",
    "plt.show()\n",
    "\n",
    "# Matriz de correlación\n",
    "corr_matrix = df_cleaned[['startYear', 'runtimeMinutes', 'averageRating']].corr()\n",
    "sns.heatmap(corr_matrix, annot=True, cmap='coolwarm')\n",
    "plt.title('Matriz de Correlación')\n",
    "plt.show()\n",
    "    "
   ]
  },
  {
   "cell_type": "markdown",
   "id": "cfe4657c",
   "metadata": {},
   "source": [
    "### Paso 5: Entrenamiento del Modelo"
   ]
  },
  {
   "cell_type": "code",
   "execution_count": null,
   "id": "38bb9bb8",
   "metadata": {},
   "outputs": [],
   "source": [
    "\n",
    "mlb = MultiLabelBinarizer()\n",
    "df_cleaned['genres_list'] = df_cleaned['genres'].str.split(',')\n",
    "genres_encoded = mlb.fit_transform(df_cleaned['genres_list'])\n",
    "df_genres_encoded = pd.DataFrame(genres_encoded, columns=mlb.classes_)\n",
    "df_cleaned = pd.concat([df_cleaned, df_genres_encoded], axis=1)\n",
    "\n",
    "X = df_cleaned.drop(columns=['genres', 'primaryTitle'])\n",
    "y = df_cleaned['genres_list'].apply(lambda x: x[0] if x else 'Other')\n",
    "X_train, X_test, y_train, y_test = train_test_split(X, y, test_size=0.2, random_state=42)\n",
    "\n",
    "model = LogisticRegression(multi_class='multinomial', solver='lbfgs')\n",
    "model.fit(X_train, y_train)\n",
    "y_pred = model.predict(X_test)\n",
    "\n",
    "print(classification_report(y_test, y_pred))\n",
    "    "
   ]
  },
  {
   "cell_type": "markdown",
   "id": "db80bc3a",
   "metadata": {},
   "source": [
    "### Paso 6: Predicción de Géneros Rentables"
   ]
  },
  {
   "cell_type": "code",
   "execution_count": null,
   "id": "bf955ff5",
   "metadata": {},
   "outputs": [],
   "source": [
    "\n",
    "# Análisis para rentabilidad (ingresos)\n",
    "top_grossing = pd.read_csv('Top_1000_Highest_Grossing_Movies_Of_All_Time.csv')\n",
    "top_grossing = top_grossing.drop_duplicates(subset='primaryTitle')\n",
    "df_combined = pd.merge(df_cleaned, top_grossing, on='primaryTitle', how='left')\n",
    "    "
   ]
  },
  {
   "cell_type": "code",
   "execution_count": 4,
   "id": "d3d5112c",
   "metadata": {},
   "outputs": [
    {
     "name": "stdout",
     "output_type": "stream",
     "text": [
      "          Genre  Average_Gross\n",
      "0        Action            NaN\n",
      "1         Adult            NaN\n",
      "2     Adventure            NaN\n",
      "3     Animation            NaN\n",
      "4     Biography            NaN\n",
      "5        Comedy            NaN\n",
      "6         Crime            NaN\n",
      "7   Documentary            NaN\n",
      "8         Drama            NaN\n",
      "9        Family            NaN\n",
      "10      Fantasy            NaN\n",
      "11    Film-Noir            NaN\n",
      "12      History            NaN\n",
      "13       Horror            NaN\n",
      "14        Music            NaN\n",
      "15      Musical            NaN\n",
      "16      Mystery            NaN\n",
      "17      Romance            NaN\n",
      "18       Sci-Fi            NaN\n",
      "19        Sport            NaN\n",
      "20     Thriller            NaN\n",
      "21          War            NaN\n",
      "22      Western            NaN\n"
     ]
    },
    {
     "data": {
      "image/png": "[encoded data removed]",
      "text/plain": [
       "<Figure size 1200x800 with 1 Axes>"
      ]
     },
     "metadata": {},
     "output_type": "display_data"
    }
   ],
   "source": [
    "pip install --upgrade --force-reinstall pandas --user\n",
    "\n"
   ]
  },
  {
   "cell_type": "markdown",
   "id": "9a9f6a4b",
   "metadata": {},
   "source": [
    "### Paso 7: Documentación para GitHub"
   ]
  },
  {
   "cell_type": "markdown",
   "id": "b3f0a151",
   "metadata": {},
   "source": [
    "Instrucciones:\n",
    "- Instalar librerías necesarias: `pandas`, `numpy`, `matplotlib`, `seaborn`, `missingno`, `plotly`, `scikit-learn`\n",
    "- Seguir cada paso en el orden indicado para replicar análisis y predicciones.\n"
   ]
  }
 ],
 "metadata": {
  "kernelspec": {
   "display_name": "Python 3 (ipykernel)",
   "language": "python",
   "name": "python3"
  },
  "language_info": {
   "codemirror_mode": {
    "name": "ipython",
    "version": 3
   },
   "file_extension": ".py",
   "mimetype": "text/x-python",
   "name": "python",
   "nbconvert_exporter": "python",
   "pygments_lexer": "ipython3",
   "version": "3.10.9"
  }
 },
 "nbformat": 4,
 "nbformat_minor": 5
}
